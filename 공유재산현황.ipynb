{
  "nbformat": 4,
  "nbformat_minor": 0,
  "metadata": {
    "colab": {
      "provenance": [],
      "authorship_tag": "ABX9TyMYaGNS1idntY4LGcyJBOu9",
      "include_colab_link": true
    },
    "kernelspec": {
      "name": "python3",
      "display_name": "Python 3"
    },
    "language_info": {
      "name": "python"
    }
  },
  "cells": [
    {
      "cell_type": "markdown",
      "metadata": {
        "id": "view-in-github",
        "colab_type": "text"
      },
      "source": [
        "<a href=\"https://colab.research.google.com/github/dbqls61/opensourse/blob/main/%EA%B3%B5%EC%9C%A0%EC%9E%AC%EC%82%B0%ED%98%84%ED%99%A9.ipynb\" target=\"_parent\"><img src=\"https://colab.research.google.com/assets/colab-badge.svg\" alt=\"Open In Colab\"/></a>"
      ]
    },
    {
      "cell_type": "code",
      "source": [
        "# prompt: /content/부산광역시_수영구_학교정보.csv 분석해줘\n",
        "\n",
        "import pandas as pd\n",
        "\n",
        "# 파일 경로를 지정합니다.\n",
        "file_path = '/content/부산광역시_수영구_학교정보.csv'\n",
        "\n",
        "try:\n",
        "    # CSV 파일을 pandas DataFrame으로 읽어옵니다.\n",
        "    df = pd.read_csv(file_path, encoding='cp949')  # encoding='cp949'를 추가하여 한글 인코딩 문제 해결\n",
        "\n",
        "    # 데이터프레임의 처음 5행을 출력하여 데이터를 미리 봅니다.\n",
        "    print(df.head())\n",
        "\n",
        "    # 데이터프레임의 정보를 출력합니다 (컬럼 이름, 데이터 타입, 결측치 등)\n",
        "    print(df.info())\n",
        "\n",
        "    # 각 컬럼의 기본 통계량을 출력합니다 (평균, 표준편차, 최솟값, 최댓값 등)\n",
        "    # 숫자형 컬럼에 대해서만 출력됩니다.\n",
        "    print(df.describe())\n",
        "\n",
        "    # 각 컬럼의 고유값과 빈도수를 출력합니다.\n",
        "    for col in df.columns:\n",
        "        print(f\"\\nColumn: {col}\")\n",
        "        print(df[col].value_counts())\n",
        "\n",
        "except FileNotFoundError:\n",
        "    print(f\"Error: File not found at {file_path}\")\n",
        "except pd.errors.ParserError:\n",
        "    print(f\"Error: Unable to parse the CSV file. Check the file format and encoding.\")\n",
        "except Exception as e:\n",
        "    print(f\"An unexpected error occurred: {e}\")\n"
      ],
      "metadata": {
        "colab": {
          "base_uri": "https://localhost:8080/"
        },
        "id": "A0gq111DOoLm",
        "outputId": "a126c60f-c152-434b-f020-05ae407858b5"
      },
      "execution_count": 3,
      "outputs": [
        {
          "output_type": "stream",
          "name": "stdout",
          "text": [
            "An unexpected error occurred: 'cp949' codec can't decode byte 0xec in position 20: illegal multibyte sequence\n"
          ]
        }
      ]
    },
    {
      "cell_type": "code",
      "source": [
        "# prompt: 차트도 만들어줘\n",
        "\n",
        "import pandas as pd\n",
        "import matplotlib.pyplot as plt\n",
        "import seaborn as sns\n",
        "\n",
        "# 파일 경로를 지정합니다.\n",
        "file_path = '/content/부산광역시_수영구_학교정보.csv'\n",
        "\n",
        "try:\n",
        "    # CSV 파일을 pandas DataFrame으로 읽어옵니다.\n",
        "    df = pd.read_csv(file_path, encoding='cp949')  # encoding='cp949'를 추가하여 한글 인코딩 문제 해결\n",
        "\n",
        "    # 학교 유형별 빈도수 막대 그래프\n",
        "    plt.figure(figsize=(10, 6))\n",
        "    sns.countplot(x='학교유형', data=df)\n",
        "    plt.title('학교 유형별 빈도수')\n",
        "    plt.xlabel('학교 유형')\n",
        "    plt.ylabel('빈도수')\n",
        "    plt.xticks(rotation=45)  # x축 레이블 회전\n",
        "    plt.show()\n",
        "\n",
        "    # 설립 유형별 빈도수 원형 그래프\n",
        "    plt.figure(figsize=(8, 8))\n",
        "    df['설립유형'].value_counts().plot(kind='pie', autopct='%1.1f%%')\n",
        "    plt.title('설립 유형별 빈도수')\n",
        "    plt.ylabel('')  # y축 레이블 제거\n",
        "    plt.show()\n",
        "\n",
        "\n",
        "    # ... (이전 코드와 동일)\n",
        "\n",
        "except FileNotFoundError:\n",
        "    print(f\"Error: File not found at {file_path}\")\n",
        "except pd.errors.ParserError:\n",
        "    print(f\"Error: Unable to parse the CSV file. Check the file format and encoding.\")\n",
        "except Exception as e:\n",
        "    print(f\"An unexpected error occurred: {e}\")\n"
      ],
      "metadata": {
        "colab": {
          "base_uri": "https://localhost:8080/"
        },
        "id": "9oeWkZdJPfe9",
        "outputId": "52ebcb01-7305-449a-8721-371d2be3b405"
      },
      "execution_count": 6,
      "outputs": [
        {
          "output_type": "stream",
          "name": "stdout",
          "text": [
            "An unexpected error occurred: 'cp949' codec can't decode byte 0xec in position 20: illegal multibyte sequence\n"
          ]
        }
      ]
    }
  ]
}