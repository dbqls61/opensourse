{
  "nbformat": 4,
  "nbformat_minor": 0,
  "metadata": {
    "colab": {
      "provenance": [],
      "authorship_tag": "ABX9TyNqbY2J7e3XYc7ThYfoeHm+",
      "include_colab_link": true
    },
    "kernelspec": {
      "name": "python3",
      "display_name": "Python 3"
    },
    "language_info": {
      "name": "python"
    }
  },
  "cells": [
    {
      "cell_type": "markdown",
      "metadata": {
        "id": "view-in-github",
        "colab_type": "text"
      },
      "source": [
        "<a href=\"https://colab.research.google.com/github/dbqls61/opensourse/blob/main/%EA%B3%B5%ED%95%99%EC%9A%A9_%EA%B3%84%EC%82%B0%EA%B8%B0_%EB%A7%8C%EB%93%A4%EA%B8%B0.ipynb\" target=\"_parent\"><img src=\"https://colab.research.google.com/assets/colab-badge.svg\" alt=\"Open In Colab\"/></a>"
      ]
    },
    {
      "cell_type": "code",
      "execution_count": 8,
      "metadata": {
        "id": "VXc_XCgSBngu"
      },
      "outputs": [],
      "source": []
    },
    {
      "cell_type": "markdown",
      "source": [
        "# 공학용 계산기 개발의 필요성\n",
        "본 프로젝트는 많은 학생들이 공학용 계산기를 구매해야하는 문제를 해결하기 위해 만들었습니다. 예를 들면, $x^6$ 을 개발하는게 어렵습니다."
      ],
      "metadata": {
        "id": "QB6nwKk4E1DP"
      }
    },
    {
      "cell_type": "markdown",
      "source": [
        "## 초기값 입력"
      ],
      "metadata": {
        "id": "NobWSjnyI8G8"
      }
    },
    {
      "cell_type": "code",
      "source": [
        "slider_value = 142  # @param {type: \"slider\", min: 100, max: 200}\n",
        "x = 300  # @param {type: \"number\"}\n",
        "y = 102  # @param {type: \"number\"}\n",
        "date = '2010-11-05'  # @param {type: \"date\"}\n",
        "pick_me = \"monday\"  # @param ['monday', 'tuesday', 'wednesday', 'thursday']\n",
        "select_or_input = \"apples\" # @param [\"apples\", \"bananas\", \"oranges\"] {allow-input: true}\n",
        "# @markdown ---\n"
      ],
      "metadata": {
        "id": "Vw3B-J79I_1S"
      },
      "execution_count": 9,
      "outputs": []
    },
    {
      "cell_type": "markdown",
      "source": [
        "## 지수 값 구하기"
      ],
      "metadata": {
        "id": "t48vZ10BFju0"
      }
    },
    {
      "cell_type": "code",
      "source": [
        "x6 = x*x*x*x*x*x\n",
        "x6\n",
        "\n",
        "if x6 > 2000000:\n",
        "  print(\"너무 큰수를 입력하셨습니다\")"
      ],
      "metadata": {
        "colab": {
          "base_uri": "https://localhost:8080/"
        },
        "id": "CGBuDWdgGC6I",
        "outputId": "a6ea52c1-2ee4-4ba5-930e-284c2a44b342"
      },
      "execution_count": 10,
      "outputs": [
        {
          "output_type": "stream",
          "name": "stdout",
          "text": [
            "너무 큰수를 입력하셨습니다\n"
          ]
        }
      ]
    },
    {
      "cell_type": "code",
      "source": [
        "x6"
      ],
      "metadata": {
        "colab": {
          "base_uri": "https://localhost:8080/"
        },
        "id": "zcyr18cOJaRu",
        "outputId": "a05da80b-1062-46ae-a861-d7f15f2a7733"
      },
      "execution_count": 11,
      "outputs": [
        {
          "output_type": "execute_result",
          "data": {
            "text/plain": [
              "729000000000000"
            ]
          },
          "metadata": {},
          "execution_count": 11
        }
      ]
    }
  ]
}